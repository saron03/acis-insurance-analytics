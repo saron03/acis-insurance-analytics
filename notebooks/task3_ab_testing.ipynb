{
 "cells": [
  {
   "cell_type": "code",
   "execution_count": 1,
   "id": "9dfbc3c0-6f01-447e-b9e2-edd6aee544b7",
   "metadata": {},
   "outputs": [],
   "source": [
    "import pandas as pd\n",
    "import numpy as np\n",
    "import matplotlib.pyplot as plt\n",
    "import seaborn as sns\n",
    "from scipy.stats import ttest_ind, chi2_contingency"
   ]
  },
  {
   "cell_type": "code",
   "execution_count": 5,
   "id": "e64c1082-7180-4191-976e-73caf7a90758",
   "metadata": {},
   "outputs": [
    {
     "name": "stderr",
     "output_type": "stream",
     "text": [
      "C:\\Users\\saron\\AppData\\Local\\Temp\\ipykernel_14040\\3789772269.py:1: DtypeWarning: Columns (32,37) have mixed types. Specify dtype option on import or set low_memory=False.\n",
      "  df = pd.read_csv('../data/MachineLearningRating_v3.txt', sep='|')  # Adjust path if needed\n"
     ]
    },
    {
     "data": {
      "text/html": [
       "<div>\n",
       "<style scoped>\n",
       "    .dataframe tbody tr th:only-of-type {\n",
       "        vertical-align: middle;\n",
       "    }\n",
       "\n",
       "    .dataframe tbody tr th {\n",
       "        vertical-align: top;\n",
       "    }\n",
       "\n",
       "    .dataframe thead th {\n",
       "        text-align: right;\n",
       "    }\n",
       "</style>\n",
       "<table border=\"1\" class=\"dataframe\">\n",
       "  <thead>\n",
       "    <tr style=\"text-align: right;\">\n",
       "      <th></th>\n",
       "      <th>UnderwrittenCoverID</th>\n",
       "      <th>PolicyID</th>\n",
       "      <th>TransactionMonth</th>\n",
       "      <th>IsVATRegistered</th>\n",
       "      <th>Citizenship</th>\n",
       "      <th>LegalType</th>\n",
       "      <th>Title</th>\n",
       "      <th>Language</th>\n",
       "      <th>Bank</th>\n",
       "      <th>AccountType</th>\n",
       "      <th>...</th>\n",
       "      <th>ExcessSelected</th>\n",
       "      <th>CoverCategory</th>\n",
       "      <th>CoverType</th>\n",
       "      <th>CoverGroup</th>\n",
       "      <th>Section</th>\n",
       "      <th>Product</th>\n",
       "      <th>StatutoryClass</th>\n",
       "      <th>StatutoryRiskType</th>\n",
       "      <th>TotalPremium</th>\n",
       "      <th>TotalClaims</th>\n",
       "    </tr>\n",
       "  </thead>\n",
       "  <tbody>\n",
       "    <tr>\n",
       "      <th>0</th>\n",
       "      <td>145249</td>\n",
       "      <td>12827</td>\n",
       "      <td>2015-03-01 00:00:00</td>\n",
       "      <td>True</td>\n",
       "      <td></td>\n",
       "      <td>Close Corporation</td>\n",
       "      <td>Mr</td>\n",
       "      <td>English</td>\n",
       "      <td>First National Bank</td>\n",
       "      <td>Current account</td>\n",
       "      <td>...</td>\n",
       "      <td>Mobility - Windscreen</td>\n",
       "      <td>Windscreen</td>\n",
       "      <td>Windscreen</td>\n",
       "      <td>Comprehensive - Taxi</td>\n",
       "      <td>Motor Comprehensive</td>\n",
       "      <td>Mobility Metered Taxis: Monthly</td>\n",
       "      <td>Commercial</td>\n",
       "      <td>IFRS Constant</td>\n",
       "      <td>21.929825</td>\n",
       "      <td>0.0</td>\n",
       "    </tr>\n",
       "    <tr>\n",
       "      <th>1</th>\n",
       "      <td>145249</td>\n",
       "      <td>12827</td>\n",
       "      <td>2015-05-01 00:00:00</td>\n",
       "      <td>True</td>\n",
       "      <td></td>\n",
       "      <td>Close Corporation</td>\n",
       "      <td>Mr</td>\n",
       "      <td>English</td>\n",
       "      <td>First National Bank</td>\n",
       "      <td>Current account</td>\n",
       "      <td>...</td>\n",
       "      <td>Mobility - Windscreen</td>\n",
       "      <td>Windscreen</td>\n",
       "      <td>Windscreen</td>\n",
       "      <td>Comprehensive - Taxi</td>\n",
       "      <td>Motor Comprehensive</td>\n",
       "      <td>Mobility Metered Taxis: Monthly</td>\n",
       "      <td>Commercial</td>\n",
       "      <td>IFRS Constant</td>\n",
       "      <td>21.929825</td>\n",
       "      <td>0.0</td>\n",
       "    </tr>\n",
       "    <tr>\n",
       "      <th>2</th>\n",
       "      <td>145249</td>\n",
       "      <td>12827</td>\n",
       "      <td>2015-07-01 00:00:00</td>\n",
       "      <td>True</td>\n",
       "      <td></td>\n",
       "      <td>Close Corporation</td>\n",
       "      <td>Mr</td>\n",
       "      <td>English</td>\n",
       "      <td>First National Bank</td>\n",
       "      <td>Current account</td>\n",
       "      <td>...</td>\n",
       "      <td>Mobility - Windscreen</td>\n",
       "      <td>Windscreen</td>\n",
       "      <td>Windscreen</td>\n",
       "      <td>Comprehensive - Taxi</td>\n",
       "      <td>Motor Comprehensive</td>\n",
       "      <td>Mobility Metered Taxis: Monthly</td>\n",
       "      <td>Commercial</td>\n",
       "      <td>IFRS Constant</td>\n",
       "      <td>0.000000</td>\n",
       "      <td>0.0</td>\n",
       "    </tr>\n",
       "    <tr>\n",
       "      <th>3</th>\n",
       "      <td>145255</td>\n",
       "      <td>12827</td>\n",
       "      <td>2015-05-01 00:00:00</td>\n",
       "      <td>True</td>\n",
       "      <td></td>\n",
       "      <td>Close Corporation</td>\n",
       "      <td>Mr</td>\n",
       "      <td>English</td>\n",
       "      <td>First National Bank</td>\n",
       "      <td>Current account</td>\n",
       "      <td>...</td>\n",
       "      <td>Mobility - Metered Taxis - R2000</td>\n",
       "      <td>Own damage</td>\n",
       "      <td>Own Damage</td>\n",
       "      <td>Comprehensive - Taxi</td>\n",
       "      <td>Motor Comprehensive</td>\n",
       "      <td>Mobility Metered Taxis: Monthly</td>\n",
       "      <td>Commercial</td>\n",
       "      <td>IFRS Constant</td>\n",
       "      <td>512.848070</td>\n",
       "      <td>0.0</td>\n",
       "    </tr>\n",
       "    <tr>\n",
       "      <th>4</th>\n",
       "      <td>145255</td>\n",
       "      <td>12827</td>\n",
       "      <td>2015-07-01 00:00:00</td>\n",
       "      <td>True</td>\n",
       "      <td></td>\n",
       "      <td>Close Corporation</td>\n",
       "      <td>Mr</td>\n",
       "      <td>English</td>\n",
       "      <td>First National Bank</td>\n",
       "      <td>Current account</td>\n",
       "      <td>...</td>\n",
       "      <td>Mobility - Metered Taxis - R2000</td>\n",
       "      <td>Own damage</td>\n",
       "      <td>Own Damage</td>\n",
       "      <td>Comprehensive - Taxi</td>\n",
       "      <td>Motor Comprehensive</td>\n",
       "      <td>Mobility Metered Taxis: Monthly</td>\n",
       "      <td>Commercial</td>\n",
       "      <td>IFRS Constant</td>\n",
       "      <td>0.000000</td>\n",
       "      <td>0.0</td>\n",
       "    </tr>\n",
       "  </tbody>\n",
       "</table>\n",
       "<p>5 rows × 52 columns</p>\n",
       "</div>"
      ],
      "text/plain": [
       "   UnderwrittenCoverID  PolicyID     TransactionMonth  IsVATRegistered  \\\n",
       "0               145249     12827  2015-03-01 00:00:00             True   \n",
       "1               145249     12827  2015-05-01 00:00:00             True   \n",
       "2               145249     12827  2015-07-01 00:00:00             True   \n",
       "3               145255     12827  2015-05-01 00:00:00             True   \n",
       "4               145255     12827  2015-07-01 00:00:00             True   \n",
       "\n",
       "  Citizenship          LegalType Title Language                 Bank  \\\n",
       "0              Close Corporation    Mr  English  First National Bank   \n",
       "1              Close Corporation    Mr  English  First National Bank   \n",
       "2              Close Corporation    Mr  English  First National Bank   \n",
       "3              Close Corporation    Mr  English  First National Bank   \n",
       "4              Close Corporation    Mr  English  First National Bank   \n",
       "\n",
       "       AccountType  ...                    ExcessSelected CoverCategory  \\\n",
       "0  Current account  ...             Mobility - Windscreen    Windscreen   \n",
       "1  Current account  ...             Mobility - Windscreen    Windscreen   \n",
       "2  Current account  ...             Mobility - Windscreen    Windscreen   \n",
       "3  Current account  ...  Mobility - Metered Taxis - R2000    Own damage   \n",
       "4  Current account  ...  Mobility - Metered Taxis - R2000    Own damage   \n",
       "\n",
       "    CoverType            CoverGroup              Section  \\\n",
       "0  Windscreen  Comprehensive - Taxi  Motor Comprehensive   \n",
       "1  Windscreen  Comprehensive - Taxi  Motor Comprehensive   \n",
       "2  Windscreen  Comprehensive - Taxi  Motor Comprehensive   \n",
       "3  Own Damage  Comprehensive - Taxi  Motor Comprehensive   \n",
       "4  Own Damage  Comprehensive - Taxi  Motor Comprehensive   \n",
       "\n",
       "                           Product StatutoryClass StatutoryRiskType  \\\n",
       "0  Mobility Metered Taxis: Monthly     Commercial     IFRS Constant   \n",
       "1  Mobility Metered Taxis: Monthly     Commercial     IFRS Constant   \n",
       "2  Mobility Metered Taxis: Monthly     Commercial     IFRS Constant   \n",
       "3  Mobility Metered Taxis: Monthly     Commercial     IFRS Constant   \n",
       "4  Mobility Metered Taxis: Monthly     Commercial     IFRS Constant   \n",
       "\n",
       "   TotalPremium TotalClaims  \n",
       "0     21.929825         0.0  \n",
       "1     21.929825         0.0  \n",
       "2      0.000000         0.0  \n",
       "3    512.848070         0.0  \n",
       "4      0.000000         0.0  \n",
       "\n",
       "[5 rows x 52 columns]"
      ]
     },
     "execution_count": 5,
     "metadata": {},
     "output_type": "execute_result"
    }
   ],
   "source": [
    "df = pd.read_csv('../data/MachineLearningRating_v3.txt', sep='|')  # Adjust path if needed\n",
    "df.head()"
   ]
  },
  {
   "cell_type": "code",
   "execution_count": 6,
   "id": "f847828c-324c-4eb6-9f28-e4e78ad673d3",
   "metadata": {},
   "outputs": [
    {
     "name": "stdout",
     "output_type": "stream",
     "text": [
      "Claim Frequency: 0.0028\n",
      "Claim Severity: 23273.39\n"
     ]
    }
   ],
   "source": [
    "df['HasClaim'] = df['TotalClaims'] > 0\n",
    "\n",
    "# Claim Frequency (overall)\n",
    "claim_frequency = df['HasClaim'].mean()\n",
    "\n",
    "# Claim Severity (only where claims occurred)\n",
    "claim_severity = df[df['HasClaim']]['TotalClaims'].mean()\n",
    "\n",
    "# Margin\n",
    "df['Margin'] = df['TotalPremium'] - df['TotalClaims']\n",
    "\n",
    "print(\"Claim Frequency:\", round(claim_frequency, 4))\n",
    "print(\"Claim Severity:\", round(claim_severity, 2))"
   ]
  },
  {
   "cell_type": "markdown",
   "id": "d06cf8b4-2bbe-411b-a9a3-6f87acb3a0b5",
   "metadata": {},
   "source": [
    "## Step 3: Data Segmentation for A/B Testing\n"
   ]
  },
  {
   "cell_type": "code",
   "execution_count": 9,
   "id": "a39b2c6d-bc46-43c2-a7d5-a8bf7ef72c83",
   "metadata": {},
   "outputs": [
    {
     "name": "stdout",
     "output_type": "stream",
     "text": [
      "Province\n",
      "Gauteng          393865\n",
      "Western Cape     170796\n",
      "KwaZulu-Natal    169781\n",
      "North West       143287\n",
      "Mpumalanga        52718\n",
      "Eastern Cape      30336\n",
      "Limpopo           24836\n",
      "Free State         8099\n",
      "Northern Cape      6380\n",
      "Name: count, dtype: int64\n",
      "PostalCode\n",
      "2000    133498\n",
      "122      49171\n",
      "7784     28585\n",
      "299      25546\n",
      "7405     18518\n",
      "458      13775\n",
      "8000     11794\n",
      "2196     11048\n",
      "470      10226\n",
      "7100     10161\n",
      "Name: count, dtype: int64\n",
      "Gender\n",
      "Not specified    940990\n",
      "Male              42817\n",
      "Female             6755\n",
      "Name: count, dtype: int64\n"
     ]
    }
   ],
   "source": [
    "print(df['Province'].value_counts())\n",
    "print(df['PostalCode'].value_counts().head(10))\n",
    "print(df['Gender'].value_counts())"
   ]
  },
  {
   "cell_type": "code",
   "execution_count": 10,
   "id": "e7b3ee83-6c3d-44e1-992a-6eda90d03597",
   "metadata": {},
   "outputs": [
    {
     "name": "stdout",
     "output_type": "stream",
     "text": [
      "ZipGroup\n",
      "A    133498\n",
      "B     49171\n",
      "Name: count, dtype: int64\n"
     ]
    }
   ],
   "source": [
    "# Pick top 2 postal codes by count for testing\n",
    "top_postal_codes = df['PostalCode'].value_counts().nlargest(2).index.tolist()\n",
    "\n",
    "# Filter dataset to only include those top postal codes\n",
    "df_zip_ab = df[df['PostalCode'].isin(top_postal_codes)].copy()\n",
    "df_zip_ab['ZipGroup'] = df_zip_ab['PostalCode'].apply(lambda x: 'A' if x == top_postal_codes[0] else 'B')\n",
    "\n",
    "print(df_zip_ab['ZipGroup'].value_counts())\n"
   ]
  },
  {
   "cell_type": "code",
   "execution_count": 11,
   "id": "bd67bdb2-81b5-4a7b-9534-c3c1c09f0392",
   "metadata": {},
   "outputs": [
    {
     "name": "stdout",
     "output_type": "stream",
     "text": [
      "Gender\n",
      "Male      42817\n",
      "Female     6755\n",
      "Name: count, dtype: int64\n"
     ]
    }
   ],
   "source": [
    "df_gender_ab = df[df['Gender'].isin(['Male', 'Female'])].copy()\n",
    "print(df_gender_ab['Gender'].value_counts())"
   ]
  },
  {
   "cell_type": "code",
   "execution_count": 12,
   "id": "e7dc5dc8-f7e0-4fe8-a917-62e7a5034603",
   "metadata": {},
   "outputs": [
    {
     "name": "stdout",
     "output_type": "stream",
     "text": [
      "ANOVA (Claim Frequency across Provinces): F = 13.0251, p = 0.0000\n"
     ]
    }
   ],
   "source": [
    "import scipy.stats as stats\n",
    "\n",
    "# Province-wise groups for claim frequency\n",
    "province_groups = [group['HasClaim'].values for _, group in df.groupby('Province')]\n",
    "\n",
    "# One-way ANOVA\n",
    "f_freq, p_freq = stats.f_oneway(*province_groups)\n",
    "print(f\"ANOVA (Claim Frequency across Provinces): F = {f_freq:.4f}, p = {p_freq:.4f}\")"
   ]
  },
  {
   "cell_type": "code",
   "execution_count": 13,
   "id": "8e2f4a09-7db1-4437-9275-f1c5a3bc157c",
   "metadata": {},
   "outputs": [
    {
     "name": "stdout",
     "output_type": "stream",
     "text": [
      "ANOVA (Claim Severity across Provinces): F = 4.8302, p = 0.0000\n"
     ]
    }
   ],
   "source": [
    "# Filter only rows with a claim\n",
    "df_with_claims = df[df['HasClaim'] == 1]\n",
    "\n",
    "# Province-wise claim severity\n",
    "severity_groups = [group['TotalClaims'].values for _, group in df_with_claims.groupby('Province')]\n",
    "\n",
    "f_sev, p_sev = stats.f_oneway(*severity_groups)\n",
    "print(f\"ANOVA (Claim Severity across Provinces): F = {f_sev:.4f}, p = {p_sev:.4f}\")\n"
   ]
  },
  {
   "cell_type": "code",
   "execution_count": 14,
   "id": "672ca397-e443-439d-8320-c524c5ea62d4",
   "metadata": {},
   "outputs": [
    {
     "name": "stdout",
     "output_type": "stream",
     "text": [
      "ANOVA (Margin across Provinces): F = 3.2226, p = 0.0011\n"
     ]
    }
   ],
   "source": [
    "# Province-wise margin\n",
    "margin_groups = [group['Margin'].values for _, group in df.groupby('Province')]\n",
    "\n",
    "f_margin, p_margin = stats.f_oneway(*margin_groups)\n",
    "print(f\"ANOVA (Margin across Provinces): F = {f_margin:.4f}, p = {p_margin:.4f}\")\n"
   ]
  },
  {
   "cell_type": "code",
   "execution_count": 15,
   "id": "33edf6df-f32e-4ee0-803e-75f25653d32e",
   "metadata": {},
   "outputs": [
    {
     "name": "stdout",
     "output_type": "stream",
     "text": [
      "T-test (Claim Frequency by ZipGroup): t = inf, p = nan\n",
      "T-test (Claim Severity by ZipGroup): t = 0.4214, p = 0.6736\n",
      "T-test (Margin by ZipGroup): t = 1.2933, p = 0.1959\n"
     ]
    }
   ],
   "source": [
    "from scipy.stats import ttest_ind\n",
    "\n",
    "# T-test on Claim Frequency (binary outcome, use mean difference)\n",
    "group_a_freq = df_zip_ab[df_zip_ab['ZipGroup'] == 'A']['HasClaim']\n",
    "group_b_freq = df_zip_ab[df_zip_ab['ZipGroup'] == 'B']['HasClaim']\n",
    "t_freq_zip, p_freq_zip = ttest_ind(group_a_freq, group_b_freq)\n",
    "print(f\"T-test (Claim Frequency by ZipGroup): t = {t_freq_zip:.4f}, p = {p_freq_zip:.4f}\")\n",
    "\n",
    "# T-test on Claim Severity (only where claim occurred)\n",
    "df_zip_claims = df_zip_ab[df_zip_ab['HasClaim'] == 1]\n",
    "group_a_sev = df_zip_claims[df_zip_claims['ZipGroup'] == 'A']['TotalClaims']\n",
    "group_b_sev = df_zip_claims[df_zip_claims['ZipGroup'] == 'B']['TotalClaims']\n",
    "t_sev_zip, p_sev_zip = ttest_ind(group_a_sev, group_b_sev)\n",
    "print(f\"T-test (Claim Severity by ZipGroup): t = {t_sev_zip:.4f}, p = {p_sev_zip:.4f}\")\n",
    "\n",
    "# T-test on Margin\n",
    "group_a_margin = df_zip_ab[df_zip_ab['ZipGroup'] == 'A']['Margin']\n",
    "group_b_margin = df_zip_ab[df_zip_ab['ZipGroup'] == 'B']['Margin']\n",
    "t_margin_zip, p_margin_zip = ttest_ind(group_a_margin, group_b_margin)\n",
    "print(f\"T-test (Margin by ZipGroup): t = {t_margin_zip:.4f}, p = {p_margin_zip:.4f}\")\n"
   ]
  },
  {
   "cell_type": "code",
   "execution_count": 16,
   "id": "51daec29-6481-4737-8f52-80f58e18e66b",
   "metadata": {},
   "outputs": [
    {
     "name": "stdout",
     "output_type": "stream",
     "text": [
      "ZipGroup\n",
      "A    0.003641\n",
      "B    0.004271\n",
      "Name: HasClaim, dtype: float64\n"
     ]
    }
   ],
   "source": [
    "print(df_zip_ab.groupby('ZipGroup')['HasClaim'].mean())\n"
   ]
  },
  {
   "cell_type": "code",
   "execution_count": 17,
   "id": "f5688e98-bd1b-4933-8c3e-f3805bfa1237",
   "metadata": {},
   "outputs": [
    {
     "name": "stdout",
     "output_type": "stream",
     "text": [
      "T-test (Claim Frequency by Gender): t = -inf, p = nan\n",
      "T-test (Claim Severity by Gender): t = -0.4191, p = 0.6760\n",
      "T-test (Margin by Gender): t = -0.2104, p = 0.8334\n"
     ]
    }
   ],
   "source": [
    "# Frequency\n",
    "group_male_freq = df_gender_ab[df_gender_ab['Gender'] == 'Male']['HasClaim']\n",
    "group_female_freq = df_gender_ab[df_gender_ab['Gender'] == 'Female']['HasClaim']\n",
    "t_freq_gender, p_freq_gender = ttest_ind(group_male_freq, group_female_freq)\n",
    "print(f\"T-test (Claim Frequency by Gender): t = {t_freq_gender:.4f}, p = {p_freq_gender:.4f}\")\n",
    "\n",
    "# Severity\n",
    "df_gender_claims = df_gender_ab[df_gender_ab['HasClaim'] == 1]\n",
    "group_male_sev = df_gender_claims[df_gender_claims['Gender'] == 'Male']['TotalClaims']\n",
    "group_female_sev = df_gender_claims[df_gender_claims['Gender'] == 'Female']['TotalClaims']\n",
    "t_sev_gender, p_sev_gender = ttest_ind(group_male_sev, group_female_sev)\n",
    "print(f\"T-test (Claim Severity by Gender): t = {t_sev_gender:.4f}, p = {p_sev_gender:.4f}\")\n",
    "\n",
    "# Margin\n",
    "group_male_margin = df_gender_ab[df_gender_ab['Gender'] == 'Male']['Margin']\n",
    "group_female_margin = df_gender_ab[df_gender_ab['Gender'] == 'Female']['Margin']\n",
    "t_margin_gender, p_margin_gender = ttest_ind(group_male_margin, group_female_margin)\n",
    "print(f\"T-test (Margin by Gender): t = {t_margin_gender:.4f}, p = {p_margin_gender:.4f}\")\n"
   ]
  },
  {
   "cell_type": "code",
   "execution_count": 18,
   "id": "18397517-0060-42a0-9166-2897968d5870",
   "metadata": {},
   "outputs": [
    {
     "name": "stdout",
     "output_type": "stream",
     "text": [
      "Gender\n",
      "Female    0.002073\n",
      "Male      0.002195\n",
      "Name: HasClaim, dtype: float64\n"
     ]
    }
   ],
   "source": [
    "print(df_gender_ab.groupby('Gender')['HasClaim'].mean())\n"
   ]
  },
  {
   "cell_type": "code",
   "execution_count": null,
   "id": "59e2c0f4-338a-4051-a774-a59ce0bda52d",
   "metadata": {},
   "outputs": [],
   "source": []
  }
 ],
 "metadata": {
  "kernelspec": {
   "display_name": "Python 3 (ipykernel)",
   "language": "python",
   "name": "python3"
  },
  "language_info": {
   "codemirror_mode": {
    "name": "ipython",
    "version": 3
   },
   "file_extension": ".py",
   "mimetype": "text/x-python",
   "name": "python",
   "nbconvert_exporter": "python",
   "pygments_lexer": "ipython3",
   "version": "3.11.4"
  }
 },
 "nbformat": 4,
 "nbformat_minor": 5
}
